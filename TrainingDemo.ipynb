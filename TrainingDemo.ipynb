{
 "cells": [
  {
   "cell_type": "code",
   "execution_count": 1,
   "metadata": {
    "scrolled": true
   },
   "outputs": [],
   "source": [
    "def reward(params):\n",
    "    \"\"\"\n",
    "    Available option:\n",
    "        all_wheels_on_track (bool)\n",
    "            True if car is on track, False otherwise\n",
    "        x (float)\n",
    "            x coordinate in meters\n",
    "        y (float)\n",
    "            y coordinate in meters\n",
    "        distance_from_center (float)\n",
    "            distance from car center to track center in meters\n",
    "        is_left_of_center (bool)\n",
    "            True if car is left of track cener, False otherwise\n",
    "        heading (float)\n",
    "            range of [0,360), this is the angle in degrees between\n",
    "            the car's direction and the x-axis\n",
    "        progress (float)\n",
    "            range of [0,100], this is the percentage of the track completed\n",
    "        steps (int)\n",
    "            number of steps taken in the environment. This resets every time\n",
    "            a new episode begins, and currently the maximum episode length is 200\n",
    "        speed (float)\n",
    "            current speed of car in meters per second\n",
    "        steering_angle (float)\n",
    "            range of about [-30,30], this is the angle at which the wheels are\n",
    "            turning\n",
    "        track_width (float)\n",
    "            the track width in meters\n",
    "    \"\"\"\n",
    "    if params['all_wheels_on_track']:\n",
    "        return 1.0\n",
    "    else:\n",
    "        return 0.0"
   ]
  },
  {
   "cell_type": "code",
   "execution_count": 2,
   "metadata": {},
   "outputs": [],
   "source": [
    "from train import ModelBuilder, ModelTester"
   ]
  },
  {
   "cell_type": "code",
   "execution_count": 3,
   "metadata": {
    "scrolled": false
   },
   "outputs": [
    {
     "name": "stdout",
     "output_type": "stream",
     "text": [
      "pygame 2.0.1 (SDL 2.0.14, Python 3.6.13)\n",
      "Hello from the pygame community. https://www.pygame.org/contribute.html\n",
      "Display: random settings not implemented\n"
     ]
    },
    {
     "data": {
      "text/markdown": [
       "## Choose Model Name"
      ],
      "text/plain": [
       "<IPython.core.display.Markdown object>"
      ]
     },
     "metadata": {},
     "output_type": "display_data"
    },
    {
     "data": {
      "application/vnd.jupyter.widget-view+json": {
       "model_id": "5b957868ddf946988c3df32567b675d1",
       "version_major": 2,
       "version_minor": 0
      },
      "text/plain": [
       "interactive(children=(Text(value='', description='name'), Button(description='Run Interact', style=ButtonStyle…"
      ]
     },
     "metadata": {},
     "output_type": "display_data"
    },
    {
     "data": {
      "text/markdown": [
       "## Build Initial Model\n",
       " ### Leave empty for random initialization."
      ],
      "text/plain": [
       "<IPython.core.display.Markdown object>"
      ]
     },
     "metadata": {},
     "output_type": "display_data"
    },
    {
     "data": {
      "application/vnd.jupyter.widget-view+json": {
       "model_id": "ce61fa2e3ff44393a886a16fa6dea5bb",
       "version_major": 2,
       "version_minor": 0
      },
      "text/plain": [
       "interactive(children=(Dropdown(description='clone_from', options=('', 'myfirst'), value=''), Button(descriptio…"
      ]
     },
     "metadata": {},
     "output_type": "display_data"
    },
    {
     "data": {
      "text/markdown": [
       "## Choose Hyperparameters/Train Model"
      ],
      "text/plain": [
       "<IPython.core.display.Markdown object>"
      ]
     },
     "metadata": {},
     "output_type": "display_data"
    },
    {
     "data": {
      "application/vnd.jupyter.widget-view+json": {
       "model_id": "df3f3ea9d6564fa293bd062d6ffdad13",
       "version_major": 2,
       "version_minor": 0
      },
      "text/plain": [
       "interactive(children=(IntSlider(value=1000, description='frames_per_epoch', max=4000, min=400), IntSlider(valu…"
      ]
     },
     "metadata": {},
     "output_type": "display_data"
    }
   ],
   "source": [
    "model_builder = ModelBuilder()\n",
    "\n",
    "model_builder.set_reward(reward)\n",
    "model_builder.run_builder_tool()"
   ]
  },
  {
   "cell_type": "code",
   "execution_count": 4,
   "metadata": {},
   "outputs": [
    {
     "name": "stdout",
     "output_type": "stream",
     "text": [
      "Display: random settings not implemented\n",
      "Display: random settings not implemented\n"
     ]
    },
    {
     "data": {
      "application/vnd.jupyter.widget-view+json": {
       "model_id": "03e4f9b7fe6c45d4b04458b8183e066f",
       "version_major": 2,
       "version_minor": 0
      },
      "text/plain": [
       "interactive(children=(Dropdown(description='name', options=('',), value=''), Button(description='Run Interact'…"
      ]
     },
     "metadata": {},
     "output_type": "display_data"
    },
    {
     "data": {
      "application/vnd.jupyter.widget-view+json": {
       "model_id": "777ae9f55dcc48c6beae5f5a3f2613d6",
       "version_major": 2,
       "version_minor": 0
      },
      "text/plain": [
       "interactive(children=(Checkbox(value=False, description='real_time'), Button(description='Run Interact', style…"
      ]
     },
     "metadata": {},
     "output_type": "display_data"
    }
   ],
   "source": [
    "model_tester = ModelTester()\n",
    "model_tester._env.update_reward_func(reward)\n",
    "model_tester.run_test_tool()"
   ]
  },
  {
   "cell_type": "code",
   "execution_count": null,
   "metadata": {},
   "outputs": [],
   "source": []
  },
  {
   "cell_type": "code",
   "execution_count": null,
   "metadata": {},
   "outputs": [],
   "source": []
  },
  {
   "cell_type": "code",
   "execution_count": null,
   "metadata": {},
   "outputs": [],
   "source": []
  },
  {
   "cell_type": "code",
   "execution_count": null,
   "metadata": {},
   "outputs": [],
   "source": []
  }
 ],
 "metadata": {
  "kernelspec": {
   "display_name": "Python 3",
   "language": "python",
   "name": "python3"
  },
  "language_info": {
   "codemirror_mode": {
    "name": "ipython",
    "version": 3
   },
   "file_extension": ".py",
   "mimetype": "text/x-python",
   "name": "python",
   "nbconvert_exporter": "python",
   "pygments_lexer": "ipython3",
   "version": "3.6.13"
  }
 },
 "nbformat": 4,
 "nbformat_minor": 2
}
