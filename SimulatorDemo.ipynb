{
 "cells": [
  {
   "cell_type": "markdown",
   "metadata": {},
   "source": [
    "## Quick Circle Demo"
   ]
  },
  {
   "cell_type": "code",
   "execution_count": 1,
   "metadata": {},
   "outputs": [
    {
     "name": "stdout",
     "output_type": "stream",
     "text": [
      "pygame 2.0.1 (SDL 2.0.14, Python 3.6.13)\n",
      "Hello from the pygame community. https://www.pygame.org/contribute.html\n",
      "Display: random settings not implemented\n"
     ]
    }
   ],
   "source": [
    "import gym\n",
    "import gym_deepracer\n",
    "import time\n",
    "\n",
    "env = gym.make('deepracer-v0')   # starts as 1000x600\n",
    "env.update_random_settings({'car_rand_loc':False})\n",
    "env.resize(128,128) # resize to 128x128 for learning\n",
    "\n",
    "state = env.reset()\n",
    "\n",
    "for _ in range(20):\n",
    "    throttle = 5  # accelerate at 2 m/s^2\n",
    "    turn = 15     # turn wheels 15 degrees\n",
    "    action = (throttle, turn)\n",
    "    state, reward, done, _ = env.step(action)\n",
    "    time.sleep(1/10) # run at 10fps\n",
    "env.quit()"
   ]
  },
  {
   "cell_type": "markdown",
   "metadata": {},
   "source": [
    "## Interactive Demo"
   ]
  },
  {
   "cell_type": "code",
   "execution_count": null,
   "metadata": {},
   "outputs": [],
   "source": [
    "import gym\n",
    "import gym_deepracer\n",
    "\n",
    "env = gym.make('deepracer-v0')\n",
    "env.update_random_settings({'car_rand_loc':False})\n",
    "\n",
    "camera_view = env.reset()\n",
    "env.play()"
   ]
  },
  {
   "cell_type": "markdown",
   "metadata": {},
   "source": [
    "Note: This interactive simulator should run at around 10 fps. This is how the deepracer will see the world in realtime."
   ]
  }
 ],
 "metadata": {
  "kernelspec": {
   "display_name": "Python 3",
   "language": "python",
   "name": "python3"
  },
  "language_info": {
   "codemirror_mode": {
    "name": "ipython",
    "version": 3
   },
   "file_extension": ".py",
   "mimetype": "text/x-python",
   "name": "python",
   "nbconvert_exporter": "python",
   "pygments_lexer": "ipython3",
   "version": "3.6.13"
  }
 },
 "nbformat": 4,
 "nbformat_minor": 2
}
